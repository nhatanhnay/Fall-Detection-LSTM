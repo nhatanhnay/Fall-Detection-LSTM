{
 "cells": [
  {
   "cell_type": "code",
   "execution_count": 1,
   "metadata": {},
   "outputs": [],
   "source": [
    "import cv2\n",
    "import numpy as np\n",
    "import matplotlib.pyplot as plt\n",
    "import os\n",
    "import random\n",
    "import pandas as pd\n",
    "from ultralytics import YOLO\n",
    "import cv2\n",
    "from matplotlib import pyplot as plt\n",
    "import torch\n",
    "from tqdm import tqdm \n",
    "import tensorflow as tf"
   ]
  },
  {
   "cell_type": "code",
   "execution_count": 2,
   "metadata": {},
   "outputs": [],
   "source": [
    "# Load the model\n",
    "model = YOLO('yolov8x-pose.pt')\n",
    "n_timesteps = 30"
   ]
  },
  {
   "cell_type": "code",
   "execution_count": 3,
   "metadata": {},
   "outputs": [],
   "source": [
    "df_fall = pd.read_csv('urfall-cam0-falls.csv', header=None)\n",
    "df_adl = pd.read_csv('urfall-cam0-adls.csv', header=None)\n",
    "x = np.empty((0,n_timesteps,17,3),float)\n",
    "y = np.empty((0,n_timesteps),float)"
   ]
  },
  {
   "cell_type": "code",
   "execution_count": 4,
   "metadata": {},
   "outputs": [],
   "source": [
    "\n",
    "def create_dataset(x,y,df):\n",
    "    batch_x = np.zeros((30,17,3),float)\n",
    "    batch_y = np.zeros((30),float)\n",
    "    last_path = ''\n",
    "    frame = 0\n",
    "\n",
    "    for index, row in tqdm(df.iterrows(), total=len(df), desc=\"Processing Frames\"):\n",
    "        path = 'data/'+row[0]+'-cam0-rgb'\n",
    "        img_path = row[0]+'-cam0-rgb-'+'0'*(3-len(str(row[1])))+str(row[1])+'.png'\n",
    "        img = cv2.imread(path+'/'+img_path)\n",
    "        if row[2] == 1 and row[0][:3] != 'adl':\n",
    "            label = 1\n",
    "        else:\n",
    "            label = 0\n",
    "        label = np.array([label])\n",
    "        # Get the prediction\n",
    "        results = model(img, device='0', verbose=False)\n",
    "        keypoints = results[0].keypoints\n",
    "        if keypoints.conf is None:\n",
    "            data = np.zeros((1,17,3))\n",
    "        else:\n",
    "            keypoints = keypoints.cpu().numpy() if torch.cuda.is_available() else keypoints.numpy()\n",
    "            data = np.concatenate((np.expand_dims(keypoints.conf, axis=-1),keypoints.xyn),axis=2)\n",
    "        if data.shape[0] > 1:\n",
    "            data = np.expand_dims(data[0],axis=0)\n",
    "        if last_path == path or last_path == '':\n",
    "                batch_x = np.append(batch_x[1:],data,axis=0)\n",
    "                batch_y = np.append(batch_y[1:],label,axis=0)\n",
    "                x = np.append(x,np.expand_dims(batch_x,axis=0),axis=0)\n",
    "                y = np.append(y,np.expand_dims(batch_y,axis=0),axis=0)\n",
    "        else:\n",
    "            frame = 0\n",
    "            batch_x = np.zeros((30,17,3),float)\n",
    "            batch_y = np.zeros((30),float)\n",
    "            batch_x = np.append(batch_x[1:],data,axis=0)\n",
    "            batch_y = np.append(batch_y[1:],label,axis=0)\n",
    "        frame += 1\n",
    "        last_path = path\n",
    "    print(x.shape,y.shape)\n",
    "    return x,y"
   ]
  },
  {
   "cell_type": "code",
   "execution_count": 5,
   "metadata": {},
   "outputs": [
    {
     "name": "stderr",
     "output_type": "stream",
     "text": [
      "Processing Frames: 100%|██████████| 2995/2995 [01:47<00:00, 27.82it/s]\n"
     ]
    },
    {
     "name": "stdout",
     "output_type": "stream",
     "text": [
      "(2966, 30, 17, 3) (2966, 30)\n"
     ]
    },
    {
     "name": "stderr",
     "output_type": "stream",
     "text": [
      "Processing Frames: 100%|██████████| 8549/8549 [06:51<00:00, 20.78it/s]\n"
     ]
    },
    {
     "name": "stdout",
     "output_type": "stream",
     "text": [
      "(11476, 30, 17, 3) (11476, 30)\n"
     ]
    }
   ],
   "source": [
    "x, y = create_dataset(x,y,df_fall)\n",
    "x, y = create_dataset(x,y,df_adl)\n",
    "x.shape, y.shape\n",
    "np.save(r'data_csv\\x.npy',x)\n",
    "np.save(r'data_csv\\y.npy',y)"
   ]
  },
  {
   "cell_type": "code",
   "execution_count": 6,
   "metadata": {},
   "outputs": [
    {
     "name": "stdout",
     "output_type": "stream",
     "text": [
      "X has NaN: False\n",
      "X has Inf: False\n"
     ]
    }
   ],
   "source": [
    "print(\"X has NaN:\", np.isnan(x).any())\n",
    "print(\"X has Inf:\", np.isinf(x).any())\n",
    "for i in range(x.shape[0]):  # Duyệt qua chiều đầu tiên\n",
    "    for j in range(x.shape[1]):  # Duyệt qua chiều thứ hai\n",
    "        for k in range(x.shape[2]):  # Duyệt qua chiều thứ ba\n",
    "            for l in range(x.shape[3]):  # Duyệt qua chiều thứ tư\n",
    "                value = x[i, j, k, l]\n",
    "                # Thực hiện một hành động với 'value'\n",
    "                # Ví dụ: kiểm tra nếu giá trị lớn hơn 1\n",
    "                if value > 1:\n",
    "                    print(f\"Element at index ({i}, {j}, {k}, {l}) is greater than 1: {value}\")\n"
   ]
  },
  {
   "cell_type": "code",
   "execution_count": 2,
   "metadata": {},
   "outputs": [],
   "source": [
    "def split_into_train_val(x,y,train_size):\n",
    "    indices = np.arange(x.shape[0])\n",
    "    np.random.shuffle(indices)\n",
    "    x = x[indices]\n",
    "    y = y[indices]\n",
    "    train_size = int(x.shape[0]*train_size)\n",
    "    x_train = x[:train_size]\n",
    "    y_train = y[:train_size]\n",
    "    x_val = x[train_size:]\n",
    "    y_val = y[train_size:]\n",
    "    return x_train, y_train, x_val, y_val"
   ]
  },
  {
   "cell_type": "code",
   "execution_count": 3,
   "metadata": {},
   "outputs": [],
   "source": [
    "def ohe_y(y):\n",
    "    target = np.zeros((y.shape[0],2),dtype='int')\n",
    "    for row in range(y.shape[0]):\n",
    "        if y[row][14] == 0:\n",
    "            col = 0\n",
    "        else:\n",
    "            col = 1\n",
    "        target[row,col] = 1\n",
    "    return target\n",
    "    "
   ]
  },
  {
   "cell_type": "code",
   "execution_count": 4,
   "metadata": {},
   "outputs": [
    {
     "name": "stdout",
     "output_type": "stream",
     "text": [
      "(11476, 30, 17, 3) (11476, 30)\n",
      "<class 'numpy.ndarray'> (11476, 30)\n",
      "(9180, 30, 17, 3) (9180, 2) (2296, 30, 17, 3) (2296, 2)\n",
      "(9180, 30, 17, 3) (9180, 2) (2296, 30, 17, 3) (2296, 2)\n"
     ]
    }
   ],
   "source": [
    "x = np.load(r'data_csv\\x.npy')\n",
    "y = np.load(r'data_csv\\y.npy')\n",
    "print(x.shape, y.shape)\n",
    "print(type(y),y.shape)\n",
    "y = ohe_y(y)\n",
    "x_train, y_train, x_val, y_val = split_into_train_val(x,y,0.8)\n",
    "print(x_train.shape, y_train.shape, x_val.shape, y_val.shape)\n",
    "np.save(os.path.join('data_csv','x_val.npy'),x_val)\n",
    "np.save(os.path.join('data_csv','y_val.npy'),y_val)\n",
    "np.save(os.path.join('data_csv','x_train.npy'),x_train)\n",
    "np.save(os.path.join('data_csv','y_train.npy'),y_train)\n",
    "print(x_train.shape, y_train.shape, x_val.shape, y_val.shape)\n"
   ]
  },
  {
   "cell_type": "code",
   "execution_count": 5,
   "metadata": {},
   "outputs": [],
   "source": [
    "from tensorflow import keras\n",
    "from tensorflow.keras.models import Sequential\n",
    "from tensorflow.keras.layers import Dense, Conv1D , MaxPooling1D , LSTM, TimeDistributed, Flatten, Dropout, Input\n",
    "from tensorflow.keras.callbacks import Callback, EarlyStopping, ReduceLROnPlateau\n",
    "from tensorflow.keras.optimizers import Adam"
   ]
  },
  {
   "cell_type": "code",
   "execution_count": 6,
   "metadata": {},
   "outputs": [
    {
     "name": "stdout",
     "output_type": "stream",
     "text": [
      "X has NaN: False\n",
      "X has Inf: False\n",
      "X max: 1.0\n"
     ]
    }
   ],
   "source": [
    "print(\"X has NaN:\", np.isnan(x_train).any())\n",
    "print(\"X has Inf:\", np.isinf(x_train).any())\n",
    "# Kiểm tra chi so max trong x\n",
    "print(\"X max:\", np.max(x_train))\n"
   ]
  },
  {
   "cell_type": "code",
   "execution_count": 7,
   "metadata": {},
   "outputs": [],
   "source": [
    "y_train = np.load(r'data_csv\\y_train.npy')\n",
    "y_val = np.load(r'data_csv\\y_val.npy')\n",
    "x_train = np.load(r'data_csv\\x_train.npy')\n",
    "x_val = np.load(r'data_csv\\x_val.npy')\n",
    "x_train = x_train.astype('float32')\n",
    "y_train = y_train.astype('float32')\n",
    "x_val = x_val.astype('float32')\n",
    "y_val = y_val.astype('float32')\n",
    "n_steps = x_train.shape[1]\n",
    "n_steps\n",
    "model = Sequential()\n",
    "model.add(Input(shape=(n_steps, 17, 3)))\n",
    "model.add(TimeDistributed(Conv1D(filters=16, kernel_size=2, activation=\"relu\")))\n",
    "model.add(TimeDistributed(MaxPooling1D(pool_size=2)))\n",
    "# the system uses a TimeDistributed wrapper which aligns the output of the flattened array of CNN sequentially\n",
    "model.add(TimeDistributed(Flatten()))\n",
    "model.add(LSTM(128))\n",
    "model.add(Dense(32))\n",
    "model.add(Dense(2, activation=\"softmax\"))\n",
    "optimizer = Adam(learning_rate=1e-5)\n",
    "model.compile(optimizer=optimizer, loss='categorical_crossentropy',metrics=['accuracy'])"
   ]
  },
  {
   "cell_type": "code",
   "execution_count": 8,
   "metadata": {},
   "outputs": [
    {
     "data": {
      "text/html": [
       "<pre style=\"white-space:pre;overflow-x:auto;line-height:normal;font-family:Menlo,'DejaVu Sans Mono',consolas,'Courier New',monospace\"><span style=\"font-weight: bold\">Model: \"sequential\"</span>\n",
       "</pre>\n"
      ],
      "text/plain": [
       "\u001b[1mModel: \"sequential\"\u001b[0m\n"
      ]
     },
     "metadata": {},
     "output_type": "display_data"
    },
    {
     "data": {
      "text/html": [
       "<pre style=\"white-space:pre;overflow-x:auto;line-height:normal;font-family:Menlo,'DejaVu Sans Mono',consolas,'Courier New',monospace\">┏━━━━━━━━━━━━━━━━━━━━━━━━━━━━━━━━━┳━━━━━━━━━━━━━━━━━━━━━━━━┳━━━━━━━━━━━━━━━┓\n",
       "┃<span style=\"font-weight: bold\"> Layer (type)                    </span>┃<span style=\"font-weight: bold\"> Output Shape           </span>┃<span style=\"font-weight: bold\">       Param # </span>┃\n",
       "┡━━━━━━━━━━━━━━━━━━━━━━━━━━━━━━━━━╇━━━━━━━━━━━━━━━━━━━━━━━━╇━━━━━━━━━━━━━━━┩\n",
       "│ time_distributed                │ (<span style=\"color: #00d7ff; text-decoration-color: #00d7ff\">None</span>, <span style=\"color: #00af00; text-decoration-color: #00af00\">30</span>, <span style=\"color: #00af00; text-decoration-color: #00af00\">16</span>, <span style=\"color: #00af00; text-decoration-color: #00af00\">16</span>)     │           <span style=\"color: #00af00; text-decoration-color: #00af00\">112</span> │\n",
       "│ (<span style=\"color: #0087ff; text-decoration-color: #0087ff\">TimeDistributed</span>)               │                        │               │\n",
       "├─────────────────────────────────┼────────────────────────┼───────────────┤\n",
       "│ time_distributed_1              │ (<span style=\"color: #00d7ff; text-decoration-color: #00d7ff\">None</span>, <span style=\"color: #00af00; text-decoration-color: #00af00\">30</span>, <span style=\"color: #00af00; text-decoration-color: #00af00\">8</span>, <span style=\"color: #00af00; text-decoration-color: #00af00\">16</span>)      │             <span style=\"color: #00af00; text-decoration-color: #00af00\">0</span> │\n",
       "│ (<span style=\"color: #0087ff; text-decoration-color: #0087ff\">TimeDistributed</span>)               │                        │               │\n",
       "├─────────────────────────────────┼────────────────────────┼───────────────┤\n",
       "│ time_distributed_2              │ (<span style=\"color: #00d7ff; text-decoration-color: #00d7ff\">None</span>, <span style=\"color: #00af00; text-decoration-color: #00af00\">30</span>, <span style=\"color: #00af00; text-decoration-color: #00af00\">128</span>)        │             <span style=\"color: #00af00; text-decoration-color: #00af00\">0</span> │\n",
       "│ (<span style=\"color: #0087ff; text-decoration-color: #0087ff\">TimeDistributed</span>)               │                        │               │\n",
       "├─────────────────────────────────┼────────────────────────┼───────────────┤\n",
       "│ lstm (<span style=\"color: #0087ff; text-decoration-color: #0087ff\">LSTM</span>)                     │ (<span style=\"color: #00d7ff; text-decoration-color: #00d7ff\">None</span>, <span style=\"color: #00af00; text-decoration-color: #00af00\">128</span>)            │       <span style=\"color: #00af00; text-decoration-color: #00af00\">131,584</span> │\n",
       "├─────────────────────────────────┼────────────────────────┼───────────────┤\n",
       "│ dense (<span style=\"color: #0087ff; text-decoration-color: #0087ff\">Dense</span>)                   │ (<span style=\"color: #00d7ff; text-decoration-color: #00d7ff\">None</span>, <span style=\"color: #00af00; text-decoration-color: #00af00\">32</span>)             │         <span style=\"color: #00af00; text-decoration-color: #00af00\">4,128</span> │\n",
       "├─────────────────────────────────┼────────────────────────┼───────────────┤\n",
       "│ dense_1 (<span style=\"color: #0087ff; text-decoration-color: #0087ff\">Dense</span>)                 │ (<span style=\"color: #00d7ff; text-decoration-color: #00d7ff\">None</span>, <span style=\"color: #00af00; text-decoration-color: #00af00\">2</span>)              │            <span style=\"color: #00af00; text-decoration-color: #00af00\">66</span> │\n",
       "└─────────────────────────────────┴────────────────────────┴───────────────┘\n",
       "</pre>\n"
      ],
      "text/plain": [
       "┏━━━━━━━━━━━━━━━━━━━━━━━━━━━━━━━━━┳━━━━━━━━━━━━━━━━━━━━━━━━┳━━━━━━━━━━━━━━━┓\n",
       "┃\u001b[1m \u001b[0m\u001b[1mLayer (type)                   \u001b[0m\u001b[1m \u001b[0m┃\u001b[1m \u001b[0m\u001b[1mOutput Shape          \u001b[0m\u001b[1m \u001b[0m┃\u001b[1m \u001b[0m\u001b[1m      Param #\u001b[0m\u001b[1m \u001b[0m┃\n",
       "┡━━━━━━━━━━━━━━━━━━━━━━━━━━━━━━━━━╇━━━━━━━━━━━━━━━━━━━━━━━━╇━━━━━━━━━━━━━━━┩\n",
       "│ time_distributed                │ (\u001b[38;5;45mNone\u001b[0m, \u001b[38;5;34m30\u001b[0m, \u001b[38;5;34m16\u001b[0m, \u001b[38;5;34m16\u001b[0m)     │           \u001b[38;5;34m112\u001b[0m │\n",
       "│ (\u001b[38;5;33mTimeDistributed\u001b[0m)               │                        │               │\n",
       "├─────────────────────────────────┼────────────────────────┼───────────────┤\n",
       "│ time_distributed_1              │ (\u001b[38;5;45mNone\u001b[0m, \u001b[38;5;34m30\u001b[0m, \u001b[38;5;34m8\u001b[0m, \u001b[38;5;34m16\u001b[0m)      │             \u001b[38;5;34m0\u001b[0m │\n",
       "│ (\u001b[38;5;33mTimeDistributed\u001b[0m)               │                        │               │\n",
       "├─────────────────────────────────┼────────────────────────┼───────────────┤\n",
       "│ time_distributed_2              │ (\u001b[38;5;45mNone\u001b[0m, \u001b[38;5;34m30\u001b[0m, \u001b[38;5;34m128\u001b[0m)        │             \u001b[38;5;34m0\u001b[0m │\n",
       "│ (\u001b[38;5;33mTimeDistributed\u001b[0m)               │                        │               │\n",
       "├─────────────────────────────────┼────────────────────────┼───────────────┤\n",
       "│ lstm (\u001b[38;5;33mLSTM\u001b[0m)                     │ (\u001b[38;5;45mNone\u001b[0m, \u001b[38;5;34m128\u001b[0m)            │       \u001b[38;5;34m131,584\u001b[0m │\n",
       "├─────────────────────────────────┼────────────────────────┼───────────────┤\n",
       "│ dense (\u001b[38;5;33mDense\u001b[0m)                   │ (\u001b[38;5;45mNone\u001b[0m, \u001b[38;5;34m32\u001b[0m)             │         \u001b[38;5;34m4,128\u001b[0m │\n",
       "├─────────────────────────────────┼────────────────────────┼───────────────┤\n",
       "│ dense_1 (\u001b[38;5;33mDense\u001b[0m)                 │ (\u001b[38;5;45mNone\u001b[0m, \u001b[38;5;34m2\u001b[0m)              │            \u001b[38;5;34m66\u001b[0m │\n",
       "└─────────────────────────────────┴────────────────────────┴───────────────┘\n"
      ]
     },
     "metadata": {},
     "output_type": "display_data"
    },
    {
     "data": {
      "text/html": [
       "<pre style=\"white-space:pre;overflow-x:auto;line-height:normal;font-family:Menlo,'DejaVu Sans Mono',consolas,'Courier New',monospace\"><span style=\"font-weight: bold\"> Total params: </span><span style=\"color: #00af00; text-decoration-color: #00af00\">135,890</span> (530.82 KB)\n",
       "</pre>\n"
      ],
      "text/plain": [
       "\u001b[1m Total params: \u001b[0m\u001b[38;5;34m135,890\u001b[0m (530.82 KB)\n"
      ]
     },
     "metadata": {},
     "output_type": "display_data"
    },
    {
     "data": {
      "text/html": [
       "<pre style=\"white-space:pre;overflow-x:auto;line-height:normal;font-family:Menlo,'DejaVu Sans Mono',consolas,'Courier New',monospace\"><span style=\"font-weight: bold\"> Trainable params: </span><span style=\"color: #00af00; text-decoration-color: #00af00\">135,890</span> (530.82 KB)\n",
       "</pre>\n"
      ],
      "text/plain": [
       "\u001b[1m Trainable params: \u001b[0m\u001b[38;5;34m135,890\u001b[0m (530.82 KB)\n"
      ]
     },
     "metadata": {},
     "output_type": "display_data"
    },
    {
     "data": {
      "text/html": [
       "<pre style=\"white-space:pre;overflow-x:auto;line-height:normal;font-family:Menlo,'DejaVu Sans Mono',consolas,'Courier New',monospace\"><span style=\"font-weight: bold\"> Non-trainable params: </span><span style=\"color: #00af00; text-decoration-color: #00af00\">0</span> (0.00 B)\n",
       "</pre>\n"
      ],
      "text/plain": [
       "\u001b[1m Non-trainable params: \u001b[0m\u001b[38;5;34m0\u001b[0m (0.00 B)\n"
      ]
     },
     "metadata": {},
     "output_type": "display_data"
    }
   ],
   "source": [
    "model.summary()"
   ]
  },
  {
   "cell_type": "code",
   "execution_count": 9,
   "metadata": {},
   "outputs": [],
   "source": [
    "def save_model(model, model_name):\n",
    "    model.save(model_name)\n",
    "    print(f\"Model saved as {model_name}\")\n",
    "\n",
    "early_stopping = EarlyStopping(\n",
    "    monitor='accuracy',\n",
    "    min_delta=0.00005,\n",
    "    patience=10,\n",
    "    verbose=1,\n",
    "    restore_best_weights=True,\n",
    ")\n",
    "class NaNCallback(tf.keras.callbacks.Callback):\n",
    "    def on_batch_end(self, batch, logs=None):\n",
    "        if any(tf.math.is_nan(logs[key]) for key in logs):\n",
    "            print(f\"NaN detected in batch {batch}, stopping training\")\n",
    "            self.model.stop_training = True\n",
    "\n",
    "nan_callback = NaNCallback()\n",
    "# callback to adjust learning rate on a plateau\n",
    "lr_scheduler = ReduceLROnPlateau(\n",
    "    monitor='val_accuracy',\n",
    "    factor=0.1,\n",
    "    patience=20,\n",
    "    min_lr=1e-7,\n",
    "    verbose=1,\n",
    ")\n",
    "\n",
    "callbacks = [\n",
    "    early_stopping,\n",
    "    lr_scheduler,\n",
    "    nan_callback,\n",
    "]"
   ]
  },
  {
   "cell_type": "code",
   "execution_count": 10,
   "metadata": {},
   "outputs": [
    {
     "name": "stdout",
     "output_type": "stream",
     "text": [
      "Epoch 1/300\n",
      "\u001b[1m287/287\u001b[0m \u001b[32m━━━━━━━━━━━━━━━━━━━━\u001b[0m\u001b[37m\u001b[0m \u001b[1m10s\u001b[0m 16ms/step - accuracy: 0.9377 - loss: 0.4587 - val_accuracy: 0.9560 - val_loss: 0.2027 - learning_rate: 1.0000e-05\n",
      "Epoch 2/300\n",
      "\u001b[1m287/287\u001b[0m \u001b[32m━━━━━━━━━━━━━━━━━━━━\u001b[0m\u001b[37m\u001b[0m \u001b[1m4s\u001b[0m 13ms/step - accuracy: 0.9593 - loss: 0.1816 - val_accuracy: 0.9560 - val_loss: 0.1810 - learning_rate: 1.0000e-05\n",
      "Epoch 3/300\n",
      "\u001b[1m287/287\u001b[0m \u001b[32m━━━━━━━━━━━━━━━━━━━━\u001b[0m\u001b[37m\u001b[0m \u001b[1m8s\u001b[0m 26ms/step - accuracy: 0.9586 - loss: 0.1696 - val_accuracy: 0.9560 - val_loss: 0.1700 - learning_rate: 1.0000e-05\n",
      "Epoch 4/300\n",
      "\u001b[1m287/287\u001b[0m \u001b[32m━━━━━━━━━━━━━━━━━━━━\u001b[0m\u001b[37m\u001b[0m \u001b[1m10s\u001b[0m 33ms/step - accuracy: 0.9567 - loss: 0.1546 - val_accuracy: 0.9560 - val_loss: 0.1512 - learning_rate: 1.0000e-05\n",
      "Epoch 5/300\n",
      "\u001b[1m287/287\u001b[0m \u001b[32m━━━━━━━━━━━━━━━━━━━━\u001b[0m\u001b[37m\u001b[0m \u001b[1m10s\u001b[0m 35ms/step - accuracy: 0.9588 - loss: 0.1336 - val_accuracy: 0.9660 - val_loss: 0.1068 - learning_rate: 1.0000e-05\n",
      "Epoch 6/300\n",
      "\u001b[1m287/287\u001b[0m \u001b[32m━━━━━━━━━━━━━━━━━━━━\u001b[0m\u001b[37m\u001b[0m \u001b[1m10s\u001b[0m 34ms/step - accuracy: 0.9695 - loss: 0.0882 - val_accuracy: 0.9734 - val_loss: 0.0663 - learning_rate: 1.0000e-05\n",
      "Epoch 7/300\n",
      "\u001b[1m287/287\u001b[0m \u001b[32m━━━━━━━━━━━━━━━━━━━━\u001b[0m\u001b[37m\u001b[0m \u001b[1m10s\u001b[0m 34ms/step - accuracy: 0.9764 - loss: 0.0592 - val_accuracy: 0.9769 - val_loss: 0.0572 - learning_rate: 1.0000e-05\n",
      "Epoch 8/300\n",
      "\u001b[1m287/287\u001b[0m \u001b[32m━━━━━━━━━━━━━━━━━━━━\u001b[0m\u001b[37m\u001b[0m \u001b[1m10s\u001b[0m 34ms/step - accuracy: 0.9798 - loss: 0.0539 - val_accuracy: 0.9795 - val_loss: 0.0526 - learning_rate: 1.0000e-05\n",
      "Epoch 9/300\n",
      "\u001b[1m287/287\u001b[0m \u001b[32m━━━━━━━━━━━━━━━━━━━━\u001b[0m\u001b[37m\u001b[0m \u001b[1m10s\u001b[0m 34ms/step - accuracy: 0.9884 - loss: 0.0398 - val_accuracy: 0.9848 - val_loss: 0.0489 - learning_rate: 1.0000e-05\n",
      "Epoch 10/300\n",
      "\u001b[1m287/287\u001b[0m \u001b[32m━━━━━━━━━━━━━━━━━━━━\u001b[0m\u001b[37m\u001b[0m \u001b[1m10s\u001b[0m 33ms/step - accuracy: 0.9874 - loss: 0.0409 - val_accuracy: 0.9839 - val_loss: 0.0467 - learning_rate: 1.0000e-05\n",
      "Epoch 11/300\n",
      "\u001b[1m287/287\u001b[0m \u001b[32m━━━━━━━━━━━━━━━━━━━━\u001b[0m\u001b[37m\u001b[0m \u001b[1m10s\u001b[0m 34ms/step - accuracy: 0.9888 - loss: 0.0344 - val_accuracy: 0.9865 - val_loss: 0.0442 - learning_rate: 1.0000e-05\n",
      "Epoch 12/300\n",
      "\u001b[1m287/287\u001b[0m \u001b[32m━━━━━━━━━━━━━━━━━━━━\u001b[0m\u001b[37m\u001b[0m \u001b[1m10s\u001b[0m 36ms/step - accuracy: 0.9875 - loss: 0.0385 - val_accuracy: 0.9865 - val_loss: 0.0428 - learning_rate: 1.0000e-05\n",
      "Epoch 13/300\n",
      "\u001b[1m287/287\u001b[0m \u001b[32m━━━━━━━━━━━━━━━━━━━━\u001b[0m\u001b[37m\u001b[0m \u001b[1m10s\u001b[0m 35ms/step - accuracy: 0.9864 - loss: 0.0375 - val_accuracy: 0.9856 - val_loss: 0.0411 - learning_rate: 1.0000e-05\n",
      "Epoch 14/300\n",
      "\u001b[1m287/287\u001b[0m \u001b[32m━━━━━━━━━━━━━━━━━━━━\u001b[0m\u001b[37m\u001b[0m \u001b[1m10s\u001b[0m 34ms/step - accuracy: 0.9895 - loss: 0.0304 - val_accuracy: 0.9865 - val_loss: 0.0398 - learning_rate: 1.0000e-05\n",
      "Epoch 15/300\n",
      "\u001b[1m287/287\u001b[0m \u001b[32m━━━━━━━━━━━━━━━━━━━━\u001b[0m\u001b[37m\u001b[0m \u001b[1m10s\u001b[0m 34ms/step - accuracy: 0.9877 - loss: 0.0328 - val_accuracy: 0.9865 - val_loss: 0.0384 - learning_rate: 1.0000e-05\n",
      "Epoch 16/300\n",
      "\u001b[1m287/287\u001b[0m \u001b[32m━━━━━━━━━━━━━━━━━━━━\u001b[0m\u001b[37m\u001b[0m \u001b[1m10s\u001b[0m 34ms/step - accuracy: 0.9892 - loss: 0.0310 - val_accuracy: 0.9882 - val_loss: 0.0380 - learning_rate: 1.0000e-05\n",
      "Epoch 17/300\n",
      "\u001b[1m287/287\u001b[0m \u001b[32m━━━━━━━━━━━━━━━━━━━━\u001b[0m\u001b[37m\u001b[0m \u001b[1m10s\u001b[0m 34ms/step - accuracy: 0.9899 - loss: 0.0279 - val_accuracy: 0.9852 - val_loss: 0.0414 - learning_rate: 1.0000e-05\n",
      "Epoch 18/300\n",
      "\u001b[1m287/287\u001b[0m \u001b[32m━━━━━━━━━━━━━━━━━━━━\u001b[0m\u001b[37m\u001b[0m \u001b[1m10s\u001b[0m 34ms/step - accuracy: 0.9906 - loss: 0.0289 - val_accuracy: 0.9878 - val_loss: 0.0350 - learning_rate: 1.0000e-05\n",
      "Epoch 19/300\n",
      "\u001b[1m287/287\u001b[0m \u001b[32m━━━━━━━━━━━━━━━━━━━━\u001b[0m\u001b[37m\u001b[0m \u001b[1m10s\u001b[0m 35ms/step - accuracy: 0.9928 - loss: 0.0234 - val_accuracy: 0.9869 - val_loss: 0.0349 - learning_rate: 1.0000e-05\n",
      "Epoch 20/300\n",
      "\u001b[1m287/287\u001b[0m \u001b[32m━━━━━━━━━━━━━━━━━━━━\u001b[0m\u001b[37m\u001b[0m \u001b[1m10s\u001b[0m 35ms/step - accuracy: 0.9894 - loss: 0.0286 - val_accuracy: 0.9887 - val_loss: 0.0329 - learning_rate: 1.0000e-05\n",
      "Epoch 21/300\n",
      "\u001b[1m287/287\u001b[0m \u001b[32m━━━━━━━━━━━━━━━━━━━━\u001b[0m\u001b[37m\u001b[0m \u001b[1m9s\u001b[0m 33ms/step - accuracy: 0.9916 - loss: 0.0255 - val_accuracy: 0.9895 - val_loss: 0.0344 - learning_rate: 1.0000e-05\n",
      "Epoch 22/300\n",
      "\u001b[1m287/287\u001b[0m \u001b[32m━━━━━━━━━━━━━━━━━━━━\u001b[0m\u001b[37m\u001b[0m \u001b[1m4s\u001b[0m 12ms/step - accuracy: 0.9898 - loss: 0.0259 - val_accuracy: 0.9900 - val_loss: 0.0327 - learning_rate: 1.0000e-05\n",
      "Epoch 23/300\n",
      "\u001b[1m287/287\u001b[0m \u001b[32m━━━━━━━━━━━━━━━━━━━━\u001b[0m\u001b[37m\u001b[0m \u001b[1m4s\u001b[0m 13ms/step - accuracy: 0.9897 - loss: 0.0276 - val_accuracy: 0.9887 - val_loss: 0.0303 - learning_rate: 1.0000e-05\n",
      "Epoch 24/300\n",
      "\u001b[1m287/287\u001b[0m \u001b[32m━━━━━━━━━━━━━━━━━━━━\u001b[0m\u001b[37m\u001b[0m \u001b[1m4s\u001b[0m 13ms/step - accuracy: 0.9895 - loss: 0.0287 - val_accuracy: 0.9874 - val_loss: 0.0315 - learning_rate: 1.0000e-05\n",
      "Epoch 25/300\n",
      "\u001b[1m287/287\u001b[0m \u001b[32m━━━━━━━━━━━━━━━━━━━━\u001b[0m\u001b[37m\u001b[0m \u001b[1m4s\u001b[0m 13ms/step - accuracy: 0.9913 - loss: 0.0255 - val_accuracy: 0.9895 - val_loss: 0.0284 - learning_rate: 1.0000e-05\n",
      "Epoch 26/300\n",
      "\u001b[1m287/287\u001b[0m \u001b[32m━━━━━━━━━━━━━━━━━━━━\u001b[0m\u001b[37m\u001b[0m \u001b[1m4s\u001b[0m 13ms/step - accuracy: 0.9896 - loss: 0.0271 - val_accuracy: 0.9891 - val_loss: 0.0287 - learning_rate: 1.0000e-05\n",
      "Epoch 27/300\n",
      "\u001b[1m287/287\u001b[0m \u001b[32m━━━━━━━━━━━━━━━━━━━━\u001b[0m\u001b[37m\u001b[0m \u001b[1m4s\u001b[0m 13ms/step - accuracy: 0.9890 - loss: 0.0284 - val_accuracy: 0.9895 - val_loss: 0.0275 - learning_rate: 1.0000e-05\n",
      "Epoch 28/300\n",
      "\u001b[1m287/287\u001b[0m \u001b[32m━━━━━━━━━━━━━━━━━━━━\u001b[0m\u001b[37m\u001b[0m \u001b[1m4s\u001b[0m 13ms/step - accuracy: 0.9902 - loss: 0.0245 - val_accuracy: 0.9904 - val_loss: 0.0263 - learning_rate: 1.0000e-05\n",
      "Epoch 29/300\n",
      "\u001b[1m287/287\u001b[0m \u001b[32m━━━━━━━━━━━━━━━━━━━━\u001b[0m\u001b[37m\u001b[0m \u001b[1m4s\u001b[0m 13ms/step - accuracy: 0.9921 - loss: 0.0208 - val_accuracy: 0.9909 - val_loss: 0.0292 - learning_rate: 1.0000e-05\n",
      "Epoch 30/300\n",
      "\u001b[1m287/287\u001b[0m \u001b[32m━━━━━━━━━━━━━━━━━━━━\u001b[0m\u001b[37m\u001b[0m \u001b[1m4s\u001b[0m 13ms/step - accuracy: 0.9911 - loss: 0.0236 - val_accuracy: 0.9909 - val_loss: 0.0254 - learning_rate: 1.0000e-05\n",
      "Epoch 31/300\n",
      "\u001b[1m287/287\u001b[0m \u001b[32m━━━━━━━━━━━━━━━━━━━━\u001b[0m\u001b[37m\u001b[0m \u001b[1m4s\u001b[0m 13ms/step - accuracy: 0.9912 - loss: 0.0249 - val_accuracy: 0.9887 - val_loss: 0.0322 - learning_rate: 1.0000e-05\n",
      "Epoch 32/300\n",
      "\u001b[1m287/287\u001b[0m \u001b[32m━━━━━━━━━━━━━━━━━━━━\u001b[0m\u001b[37m\u001b[0m \u001b[1m4s\u001b[0m 14ms/step - accuracy: 0.9907 - loss: 0.0237 - val_accuracy: 0.9909 - val_loss: 0.0252 - learning_rate: 1.0000e-05\n",
      "Epoch 33/300\n",
      "\u001b[1m287/287\u001b[0m \u001b[32m━━━━━━━━━━━━━━━━━━━━\u001b[0m\u001b[37m\u001b[0m \u001b[1m4s\u001b[0m 13ms/step - accuracy: 0.9904 - loss: 0.0253 - val_accuracy: 0.9895 - val_loss: 0.0265 - learning_rate: 1.0000e-05\n",
      "Epoch 34/300\n",
      "\u001b[1m287/287\u001b[0m \u001b[32m━━━━━━━━━━━━━━━━━━━━\u001b[0m\u001b[37m\u001b[0m \u001b[1m4s\u001b[0m 13ms/step - accuracy: 0.9923 - loss: 0.0203 - val_accuracy: 0.9909 - val_loss: 0.0261 - learning_rate: 1.0000e-05\n",
      "Epoch 35/300\n",
      "\u001b[1m287/287\u001b[0m \u001b[32m━━━━━━━━━━━━━━━━━━━━\u001b[0m\u001b[37m\u001b[0m \u001b[1m4s\u001b[0m 12ms/step - accuracy: 0.9929 - loss: 0.0180 - val_accuracy: 0.9913 - val_loss: 0.0226 - learning_rate: 1.0000e-05\n",
      "Epoch 36/300\n",
      "\u001b[1m287/287\u001b[0m \u001b[32m━━━━━━━━━━━━━━━━━━━━\u001b[0m\u001b[37m\u001b[0m \u001b[1m4s\u001b[0m 13ms/step - accuracy: 0.9918 - loss: 0.0211 - val_accuracy: 0.9913 - val_loss: 0.0218 - learning_rate: 1.0000e-05\n",
      "Epoch 37/300\n",
      "\u001b[1m287/287\u001b[0m \u001b[32m━━━━━━━━━━━━━━━━━━━━\u001b[0m\u001b[37m\u001b[0m \u001b[1m4s\u001b[0m 13ms/step - accuracy: 0.9911 - loss: 0.0219 - val_accuracy: 0.9913 - val_loss: 0.0221 - learning_rate: 1.0000e-05\n",
      "Epoch 38/300\n",
      "\u001b[1m287/287\u001b[0m \u001b[32m━━━━━━━━━━━━━━━━━━━━\u001b[0m\u001b[37m\u001b[0m \u001b[1m4s\u001b[0m 13ms/step - accuracy: 0.9924 - loss: 0.0187 - val_accuracy: 0.9917 - val_loss: 0.0209 - learning_rate: 1.0000e-05\n",
      "Epoch 39/300\n",
      "\u001b[1m287/287\u001b[0m \u001b[32m━━━━━━━━━━━━━━━━━━━━\u001b[0m\u001b[37m\u001b[0m \u001b[1m4s\u001b[0m 14ms/step - accuracy: 0.9923 - loss: 0.0183 - val_accuracy: 0.9917 - val_loss: 0.0209 - learning_rate: 1.0000e-05\n",
      "Epoch 40/300\n",
      "\u001b[1m287/287\u001b[0m \u001b[32m━━━━━━━━━━━━━━━━━━━━\u001b[0m\u001b[37m\u001b[0m \u001b[1m4s\u001b[0m 13ms/step - accuracy: 0.9904 - loss: 0.0211 - val_accuracy: 0.9917 - val_loss: 0.0209 - learning_rate: 1.0000e-05\n",
      "Epoch 41/300\n",
      "\u001b[1m287/287\u001b[0m \u001b[32m━━━━━━━━━━━━━━━━━━━━\u001b[0m\u001b[37m\u001b[0m \u001b[1m4s\u001b[0m 13ms/step - accuracy: 0.9932 - loss: 0.0158 - val_accuracy: 0.9922 - val_loss: 0.0201 - learning_rate: 1.0000e-05\n",
      "Epoch 42/300\n",
      "\u001b[1m287/287\u001b[0m \u001b[32m━━━━━━━━━━━━━━━━━━━━\u001b[0m\u001b[37m\u001b[0m \u001b[1m4s\u001b[0m 13ms/step - accuracy: 0.9934 - loss: 0.0182 - val_accuracy: 0.9909 - val_loss: 0.0237 - learning_rate: 1.0000e-05\n",
      "Epoch 43/300\n",
      "\u001b[1m287/287\u001b[0m \u001b[32m━━━━━━━━━━━━━━━━━━━━\u001b[0m\u001b[37m\u001b[0m \u001b[1m4s\u001b[0m 13ms/step - accuracy: 0.9912 - loss: 0.0190 - val_accuracy: 0.9926 - val_loss: 0.0196 - learning_rate: 1.0000e-05\n",
      "Epoch 44/300\n",
      "\u001b[1m287/287\u001b[0m \u001b[32m━━━━━━━━━━━━━━━━━━━━\u001b[0m\u001b[37m\u001b[0m \u001b[1m4s\u001b[0m 13ms/step - accuracy: 0.9923 - loss: 0.0168 - val_accuracy: 0.9900 - val_loss: 0.0232 - learning_rate: 1.0000e-05\n",
      "Epoch 45/300\n",
      "\u001b[1m287/287\u001b[0m \u001b[32m━━━━━━━━━━━━━━━━━━━━\u001b[0m\u001b[37m\u001b[0m \u001b[1m4s\u001b[0m 13ms/step - accuracy: 0.9924 - loss: 0.0194 - val_accuracy: 0.9922 - val_loss: 0.0185 - learning_rate: 1.0000e-05\n",
      "Epoch 46/300\n",
      "\u001b[1m287/287\u001b[0m \u001b[32m━━━━━━━━━━━━━━━━━━━━\u001b[0m\u001b[37m\u001b[0m \u001b[1m4s\u001b[0m 13ms/step - accuracy: 0.9947 - loss: 0.0138 - val_accuracy: 0.9887 - val_loss: 0.0278 - learning_rate: 1.0000e-05\n",
      "Epoch 47/300\n",
      "\u001b[1m287/287\u001b[0m \u001b[32m━━━━━━━━━━━━━━━━━━━━\u001b[0m\u001b[37m\u001b[0m \u001b[1m4s\u001b[0m 13ms/step - accuracy: 0.9918 - loss: 0.0183 - val_accuracy: 0.9922 - val_loss: 0.0181 - learning_rate: 1.0000e-05\n",
      "Epoch 48/300\n",
      "\u001b[1m287/287\u001b[0m \u001b[32m━━━━━━━━━━━━━━━━━━━━\u001b[0m\u001b[37m\u001b[0m \u001b[1m4s\u001b[0m 13ms/step - accuracy: 0.9936 - loss: 0.0152 - val_accuracy: 0.9913 - val_loss: 0.0187 - learning_rate: 1.0000e-05\n",
      "Epoch 49/300\n",
      "\u001b[1m287/287\u001b[0m \u001b[32m━━━━━━━━━━━━━━━━━━━━\u001b[0m\u001b[37m\u001b[0m \u001b[1m4s\u001b[0m 12ms/step - accuracy: 0.9930 - loss: 0.0167 - val_accuracy: 0.9926 - val_loss: 0.0180 - learning_rate: 1.0000e-05\n",
      "Epoch 50/300\n",
      "\u001b[1m287/287\u001b[0m \u001b[32m━━━━━━━━━━━━━━━━━━━━\u001b[0m\u001b[37m\u001b[0m \u001b[1m4s\u001b[0m 12ms/step - accuracy: 0.9948 - loss: 0.0138 - val_accuracy: 0.9900 - val_loss: 0.0205 - learning_rate: 1.0000e-05\n",
      "Epoch 51/300\n",
      "\u001b[1m287/287\u001b[0m \u001b[32m━━━━━━━━━━━━━━━━━━━━\u001b[0m\u001b[37m\u001b[0m \u001b[1m4s\u001b[0m 12ms/step - accuracy: 0.9933 - loss: 0.0161 - val_accuracy: 0.9930 - val_loss: 0.0170 - learning_rate: 1.0000e-05\n",
      "Epoch 52/300\n",
      "\u001b[1m287/287\u001b[0m \u001b[32m━━━━━━━━━━━━━━━━━━━━\u001b[0m\u001b[37m\u001b[0m \u001b[1m4s\u001b[0m 13ms/step - accuracy: 0.9948 - loss: 0.0140 - val_accuracy: 0.9909 - val_loss: 0.0195 - learning_rate: 1.0000e-05\n",
      "Epoch 53/300\n",
      "\u001b[1m287/287\u001b[0m \u001b[32m━━━━━━━━━━━━━━━━━━━━\u001b[0m\u001b[37m\u001b[0m \u001b[1m4s\u001b[0m 13ms/step - accuracy: 0.9936 - loss: 0.0151 - val_accuracy: 0.9930 - val_loss: 0.0159 - learning_rate: 1.0000e-05\n",
      "Epoch 54/300\n",
      "\u001b[1m287/287\u001b[0m \u001b[32m━━━━━━━━━━━━━━━━━━━━\u001b[0m\u001b[37m\u001b[0m \u001b[1m4s\u001b[0m 13ms/step - accuracy: 0.9937 - loss: 0.0147 - val_accuracy: 0.9926 - val_loss: 0.0161 - learning_rate: 1.0000e-05\n",
      "Epoch 55/300\n",
      "\u001b[1m287/287\u001b[0m \u001b[32m━━━━━━━━━━━━━━━━━━━━\u001b[0m\u001b[37m\u001b[0m \u001b[1m4s\u001b[0m 13ms/step - accuracy: 0.9950 - loss: 0.0137 - val_accuracy: 0.9935 - val_loss: 0.0161 - learning_rate: 1.0000e-05\n",
      "Epoch 56/300\n",
      "\u001b[1m287/287\u001b[0m \u001b[32m━━━━━━━━━━━━━━━━━━━━\u001b[0m\u001b[37m\u001b[0m \u001b[1m4s\u001b[0m 13ms/step - accuracy: 0.9939 - loss: 0.0147 - val_accuracy: 0.9913 - val_loss: 0.0165 - learning_rate: 1.0000e-05\n",
      "Epoch 57/300\n",
      "\u001b[1m287/287\u001b[0m \u001b[32m━━━━━━━━━━━━━━━━━━━━\u001b[0m\u001b[37m\u001b[0m \u001b[1m4s\u001b[0m 13ms/step - accuracy: 0.9940 - loss: 0.0150 - val_accuracy: 0.9930 - val_loss: 0.0157 - learning_rate: 1.0000e-05\n",
      "Epoch 58/300\n",
      "\u001b[1m287/287\u001b[0m \u001b[32m━━━━━━━━━━━━━━━━━━━━\u001b[0m\u001b[37m\u001b[0m \u001b[1m4s\u001b[0m 14ms/step - accuracy: 0.9958 - loss: 0.0118 - val_accuracy: 0.9935 - val_loss: 0.0154 - learning_rate: 1.0000e-05\n",
      "Epoch 59/300\n",
      "\u001b[1m287/287\u001b[0m \u001b[32m━━━━━━━━━━━━━━━━━━━━\u001b[0m\u001b[37m\u001b[0m \u001b[1m4s\u001b[0m 14ms/step - accuracy: 0.9939 - loss: 0.0142 - val_accuracy: 0.9913 - val_loss: 0.0180 - learning_rate: 1.0000e-05\n",
      "Epoch 60/300\n",
      "\u001b[1m287/287\u001b[0m \u001b[32m━━━━━━━━━━━━━━━━━━━━\u001b[0m\u001b[37m\u001b[0m \u001b[1m4s\u001b[0m 13ms/step - accuracy: 0.9951 - loss: 0.0133 - val_accuracy: 0.9939 - val_loss: 0.0154 - learning_rate: 1.0000e-05\n",
      "Epoch 61/300\n",
      "\u001b[1m287/287\u001b[0m \u001b[32m━━━━━━━━━━━━━━━━━━━━\u001b[0m\u001b[37m\u001b[0m \u001b[1m4s\u001b[0m 13ms/step - accuracy: 0.9934 - loss: 0.0164 - val_accuracy: 0.9939 - val_loss: 0.0151 - learning_rate: 1.0000e-05\n",
      "Epoch 62/300\n",
      "\u001b[1m287/287\u001b[0m \u001b[32m━━━━━━━━━━━━━━━━━━━━\u001b[0m\u001b[37m\u001b[0m \u001b[1m4s\u001b[0m 13ms/step - accuracy: 0.9937 - loss: 0.0162 - val_accuracy: 0.9930 - val_loss: 0.0145 - learning_rate: 1.0000e-05\n",
      "Epoch 63/300\n",
      "\u001b[1m287/287\u001b[0m \u001b[32m━━━━━━━━━━━━━━━━━━━━\u001b[0m\u001b[37m\u001b[0m \u001b[1m4s\u001b[0m 13ms/step - accuracy: 0.9945 - loss: 0.0125 - val_accuracy: 0.9952 - val_loss: 0.0178 - learning_rate: 1.0000e-05\n",
      "Epoch 64/300\n",
      "\u001b[1m287/287\u001b[0m \u001b[32m━━━━━━━━━━━━━━━━━━━━\u001b[0m\u001b[37m\u001b[0m \u001b[1m4s\u001b[0m 14ms/step - accuracy: 0.9946 - loss: 0.0131 - val_accuracy: 0.9922 - val_loss: 0.0164 - learning_rate: 1.0000e-05\n",
      "Epoch 65/300\n",
      "\u001b[1m287/287\u001b[0m \u001b[32m━━━━━━━━━━━━━━━━━━━━\u001b[0m\u001b[37m\u001b[0m \u001b[1m4s\u001b[0m 13ms/step - accuracy: 0.9921 - loss: 0.0156 - val_accuracy: 0.9939 - val_loss: 0.0137 - learning_rate: 1.0000e-05\n",
      "Epoch 66/300\n",
      "\u001b[1m287/287\u001b[0m \u001b[32m━━━━━━━━━━━━━━━━━━━━\u001b[0m\u001b[37m\u001b[0m \u001b[1m4s\u001b[0m 14ms/step - accuracy: 0.9950 - loss: 0.0127 - val_accuracy: 0.9930 - val_loss: 0.0136 - learning_rate: 1.0000e-05\n",
      "Epoch 67/300\n",
      "\u001b[1m287/287\u001b[0m \u001b[32m━━━━━━━━━━━━━━━━━━━━\u001b[0m\u001b[37m\u001b[0m \u001b[1m4s\u001b[0m 14ms/step - accuracy: 0.9950 - loss: 0.0127 - val_accuracy: 0.9952 - val_loss: 0.0138 - learning_rate: 1.0000e-05\n",
      "Epoch 68/300\n",
      "\u001b[1m287/287\u001b[0m \u001b[32m━━━━━━━━━━━━━━━━━━━━\u001b[0m\u001b[37m\u001b[0m \u001b[1m4s\u001b[0m 14ms/step - accuracy: 0.9969 - loss: 0.0101 - val_accuracy: 0.9943 - val_loss: 0.0140 - learning_rate: 1.0000e-05\n",
      "Epoch 69/300\n",
      "\u001b[1m287/287\u001b[0m \u001b[32m━━━━━━━━━━━━━━━━━━━━\u001b[0m\u001b[37m\u001b[0m \u001b[1m4s\u001b[0m 14ms/step - accuracy: 0.9956 - loss: 0.0109 - val_accuracy: 0.9956 - val_loss: 0.0136 - learning_rate: 1.0000e-05\n",
      "Epoch 70/300\n",
      "\u001b[1m287/287\u001b[0m \u001b[32m━━━━━━━━━━━━━━━━━━━━\u001b[0m\u001b[37m\u001b[0m \u001b[1m4s\u001b[0m 14ms/step - accuracy: 0.9955 - loss: 0.0121 - val_accuracy: 0.9943 - val_loss: 0.0141 - learning_rate: 1.0000e-05\n",
      "Epoch 71/300\n",
      "\u001b[1m287/287\u001b[0m \u001b[32m━━━━━━━━━━━━━━━━━━━━\u001b[0m\u001b[37m\u001b[0m \u001b[1m4s\u001b[0m 14ms/step - accuracy: 0.9961 - loss: 0.0109 - val_accuracy: 0.9930 - val_loss: 0.0148 - learning_rate: 1.0000e-05\n",
      "Epoch 72/300\n",
      "\u001b[1m287/287\u001b[0m \u001b[32m━━━━━━━━━━━━━━━━━━━━\u001b[0m\u001b[37m\u001b[0m \u001b[1m4s\u001b[0m 14ms/step - accuracy: 0.9951 - loss: 0.0111 - val_accuracy: 0.9943 - val_loss: 0.0138 - learning_rate: 1.0000e-05\n",
      "Epoch 73/300\n",
      "\u001b[1m287/287\u001b[0m \u001b[32m━━━━━━━━━━━━━━━━━━━━\u001b[0m\u001b[37m\u001b[0m \u001b[1m4s\u001b[0m 14ms/step - accuracy: 0.9962 - loss: 0.0119 - val_accuracy: 0.9943 - val_loss: 0.0131 - learning_rate: 1.0000e-05\n",
      "Epoch 74/300\n",
      "\u001b[1m287/287\u001b[0m \u001b[32m━━━━━━━━━━━━━━━━━━━━\u001b[0m\u001b[37m\u001b[0m \u001b[1m4s\u001b[0m 14ms/step - accuracy: 0.9957 - loss: 0.0113 - val_accuracy: 0.9891 - val_loss: 0.0281 - learning_rate: 1.0000e-05\n",
      "Epoch 75/300\n",
      "\u001b[1m287/287\u001b[0m \u001b[32m━━━━━━━━━━━━━━━━━━━━\u001b[0m\u001b[37m\u001b[0m \u001b[1m4s\u001b[0m 14ms/step - accuracy: 0.9950 - loss: 0.0120 - val_accuracy: 0.9961 - val_loss: 0.0149 - learning_rate: 1.0000e-05\n",
      "Epoch 76/300\n",
      "\u001b[1m287/287\u001b[0m \u001b[32m━━━━━━━━━━━━━━━━━━━━\u001b[0m\u001b[37m\u001b[0m \u001b[1m4s\u001b[0m 14ms/step - accuracy: 0.9959 - loss: 0.0122 - val_accuracy: 0.9943 - val_loss: 0.0149 - learning_rate: 1.0000e-05\n",
      "Epoch 77/300\n",
      "\u001b[1m287/287\u001b[0m \u001b[32m━━━━━━━━━━━━━━━━━━━━\u001b[0m\u001b[37m\u001b[0m \u001b[1m4s\u001b[0m 14ms/step - accuracy: 0.9970 - loss: 0.0073 - val_accuracy: 0.9961 - val_loss: 0.0123 - learning_rate: 1.0000e-05\n",
      "Epoch 78/300\n",
      "\u001b[1m287/287\u001b[0m \u001b[32m━━━━━━━━━━━━━━━━━━━━\u001b[0m\u001b[37m\u001b[0m \u001b[1m4s\u001b[0m 14ms/step - accuracy: 0.9958 - loss: 0.0106 - val_accuracy: 0.9961 - val_loss: 0.0116 - learning_rate: 1.0000e-05\n",
      "Epoch 79/300\n",
      "\u001b[1m287/287\u001b[0m \u001b[32m━━━━━━━━━━━━━━━━━━━━\u001b[0m\u001b[37m\u001b[0m \u001b[1m4s\u001b[0m 14ms/step - accuracy: 0.9970 - loss: 0.0096 - val_accuracy: 0.9956 - val_loss: 0.0124 - learning_rate: 1.0000e-05\n",
      "Epoch 80/300\n",
      "\u001b[1m287/287\u001b[0m \u001b[32m━━━━━━━━━━━━━━━━━━━━\u001b[0m\u001b[37m\u001b[0m \u001b[1m4s\u001b[0m 14ms/step - accuracy: 0.9970 - loss: 0.0090 - val_accuracy: 0.9939 - val_loss: 0.0144 - learning_rate: 1.0000e-05\n",
      "Epoch 81/300\n",
      "\u001b[1m287/287\u001b[0m \u001b[32m━━━━━━━━━━━━━━━━━━━━\u001b[0m\u001b[37m\u001b[0m \u001b[1m4s\u001b[0m 14ms/step - accuracy: 0.9971 - loss: 0.0094 - val_accuracy: 0.9956 - val_loss: 0.0125 - learning_rate: 1.0000e-05\n",
      "Epoch 82/300\n",
      "\u001b[1m287/287\u001b[0m \u001b[32m━━━━━━━━━━━━━━━━━━━━\u001b[0m\u001b[37m\u001b[0m \u001b[1m4s\u001b[0m 14ms/step - accuracy: 0.9965 - loss: 0.0102 - val_accuracy: 0.9917 - val_loss: 0.0199 - learning_rate: 1.0000e-05\n",
      "Epoch 83/300\n",
      "\u001b[1m287/287\u001b[0m \u001b[32m━━━━━━━━━━━━━━━━━━━━\u001b[0m\u001b[37m\u001b[0m \u001b[1m4s\u001b[0m 14ms/step - accuracy: 0.9965 - loss: 0.0107 - val_accuracy: 0.9943 - val_loss: 0.0131 - learning_rate: 1.0000e-05\n",
      "Epoch 84/300\n",
      "\u001b[1m287/287\u001b[0m \u001b[32m━━━━━━━━━━━━━━━━━━━━\u001b[0m\u001b[37m\u001b[0m \u001b[1m4s\u001b[0m 14ms/step - accuracy: 0.9972 - loss: 0.0081 - val_accuracy: 0.9952 - val_loss: 0.0135 - learning_rate: 1.0000e-05\n",
      "Epoch 85/300\n",
      "\u001b[1m287/287\u001b[0m \u001b[32m━━━━━━━━━━━━━━━━━━━━\u001b[0m\u001b[37m\u001b[0m \u001b[1m4s\u001b[0m 14ms/step - accuracy: 0.9966 - loss: 0.0113 - val_accuracy: 0.9939 - val_loss: 0.0162 - learning_rate: 1.0000e-05\n",
      "Epoch 86/300\n",
      "\u001b[1m287/287\u001b[0m \u001b[32m━━━━━━━━━━━━━━━━━━━━\u001b[0m\u001b[37m\u001b[0m \u001b[1m4s\u001b[0m 14ms/step - accuracy: 0.9966 - loss: 0.0118 - val_accuracy: 0.9961 - val_loss: 0.0139 - learning_rate: 1.0000e-05\n",
      "Epoch 87/300\n",
      "\u001b[1m287/287\u001b[0m \u001b[32m━━━━━━━━━━━━━━━━━━━━\u001b[0m\u001b[37m\u001b[0m \u001b[1m4s\u001b[0m 14ms/step - accuracy: 0.9968 - loss: 0.0098 - val_accuracy: 0.9952 - val_loss: 0.0130 - learning_rate: 1.0000e-05\n",
      "Epoch 88/300\n",
      "\u001b[1m287/287\u001b[0m \u001b[32m━━━━━━━━━━━━━━━━━━━━\u001b[0m\u001b[37m\u001b[0m \u001b[1m4s\u001b[0m 14ms/step - accuracy: 0.9975 - loss: 0.0087 - val_accuracy: 0.9961 - val_loss: 0.0125 - learning_rate: 1.0000e-05\n",
      "Epoch 89/300\n",
      "\u001b[1m287/287\u001b[0m \u001b[32m━━━━━━━━━━━━━━━━━━━━\u001b[0m\u001b[37m\u001b[0m \u001b[1m4s\u001b[0m 14ms/step - accuracy: 0.9960 - loss: 0.0102 - val_accuracy: 0.9952 - val_loss: 0.0114 - learning_rate: 1.0000e-05\n",
      "Epoch 90/300\n",
      "\u001b[1m287/287\u001b[0m \u001b[32m━━━━━━━━━━━━━━━━━━━━\u001b[0m\u001b[37m\u001b[0m \u001b[1m4s\u001b[0m 14ms/step - accuracy: 0.9971 - loss: 0.0088 - val_accuracy: 0.9961 - val_loss: 0.0110 - learning_rate: 1.0000e-05\n",
      "Epoch 91/300\n",
      "\u001b[1m287/287\u001b[0m \u001b[32m━━━━━━━━━━━━━━━━━━━━\u001b[0m\u001b[37m\u001b[0m \u001b[1m4s\u001b[0m 14ms/step - accuracy: 0.9959 - loss: 0.0117 - val_accuracy: 0.9956 - val_loss: 0.0106 - learning_rate: 1.0000e-05\n",
      "Epoch 92/300\n",
      "\u001b[1m287/287\u001b[0m \u001b[32m━━━━━━━━━━━━━━━━━━━━\u001b[0m\u001b[37m\u001b[0m \u001b[1m4s\u001b[0m 14ms/step - accuracy: 0.9963 - loss: 0.0107 - val_accuracy: 0.9961 - val_loss: 0.0106 - learning_rate: 1.0000e-05\n",
      "Epoch 93/300\n",
      "\u001b[1m287/287\u001b[0m \u001b[32m━━━━━━━━━━━━━━━━━━━━\u001b[0m\u001b[37m\u001b[0m \u001b[1m4s\u001b[0m 14ms/step - accuracy: 0.9984 - loss: 0.0066 - val_accuracy: 0.9965 - val_loss: 0.0119 - learning_rate: 1.0000e-05\n",
      "Epoch 94/300\n",
      "\u001b[1m287/287\u001b[0m \u001b[32m━━━━━━━━━━━━━━━━━━━━\u001b[0m\u001b[37m\u001b[0m \u001b[1m4s\u001b[0m 14ms/step - accuracy: 0.9971 - loss: 0.0086 - val_accuracy: 0.9961 - val_loss: 0.0109 - learning_rate: 1.0000e-05\n",
      "Epoch 95/300\n",
      "\u001b[1m287/287\u001b[0m \u001b[32m━━━━━━━━━━━━━━━━━━━━\u001b[0m\u001b[37m\u001b[0m \u001b[1m4s\u001b[0m 14ms/step - accuracy: 0.9966 - loss: 0.0095 - val_accuracy: 0.9961 - val_loss: 0.0098 - learning_rate: 1.0000e-05\n",
      "Epoch 96/300\n",
      "\u001b[1m287/287\u001b[0m \u001b[32m━━━━━━━━━━━━━━━━━━━━\u001b[0m\u001b[37m\u001b[0m \u001b[1m4s\u001b[0m 14ms/step - accuracy: 0.9982 - loss: 0.0063 - val_accuracy: 0.9961 - val_loss: 0.0115 - learning_rate: 1.0000e-05\n",
      "Epoch 97/300\n",
      "\u001b[1m287/287\u001b[0m \u001b[32m━━━━━━━━━━━━━━━━━━━━\u001b[0m\u001b[37m\u001b[0m \u001b[1m4s\u001b[0m 14ms/step - accuracy: 0.9972 - loss: 0.0111 - val_accuracy: 0.9952 - val_loss: 0.0162 - learning_rate: 1.0000e-05\n",
      "Epoch 98/300\n",
      "\u001b[1m287/287\u001b[0m \u001b[32m━━━━━━━━━━━━━━━━━━━━\u001b[0m\u001b[37m\u001b[0m \u001b[1m4s\u001b[0m 14ms/step - accuracy: 0.9962 - loss: 0.0103 - val_accuracy: 0.9952 - val_loss: 0.0141 - learning_rate: 1.0000e-05\n",
      "Epoch 99/300\n",
      "\u001b[1m287/287\u001b[0m \u001b[32m━━━━━━━━━━━━━━━━━━━━\u001b[0m\u001b[37m\u001b[0m \u001b[1m4s\u001b[0m 14ms/step - accuracy: 0.9976 - loss: 0.0082 - val_accuracy: 0.9952 - val_loss: 0.0097 - learning_rate: 1.0000e-05\n",
      "Epoch 100/300\n",
      "\u001b[1m287/287\u001b[0m \u001b[32m━━━━━━━━━━━━━━━━━━━━\u001b[0m\u001b[37m\u001b[0m \u001b[1m4s\u001b[0m 14ms/step - accuracy: 0.9972 - loss: 0.0097 - val_accuracy: 0.9956 - val_loss: 0.0105 - learning_rate: 1.0000e-05\n",
      "Epoch 101/300\n",
      "\u001b[1m287/287\u001b[0m \u001b[32m━━━━━━━━━━━━━━━━━━━━\u001b[0m\u001b[37m\u001b[0m \u001b[1m4s\u001b[0m 14ms/step - accuracy: 0.9976 - loss: 0.0078 - val_accuracy: 0.9961 - val_loss: 0.0099 - learning_rate: 1.0000e-05\n",
      "Epoch 102/300\n",
      "\u001b[1m287/287\u001b[0m \u001b[32m━━━━━━━━━━━━━━━━━━━━\u001b[0m\u001b[37m\u001b[0m \u001b[1m4s\u001b[0m 14ms/step - accuracy: 0.9977 - loss: 0.0074 - val_accuracy: 0.9965 - val_loss: 0.0104 - learning_rate: 1.0000e-05\n",
      "Epoch 103/300\n",
      "\u001b[1m287/287\u001b[0m \u001b[32m━━━━━━━━━━━━━━━━━━━━\u001b[0m\u001b[37m\u001b[0m \u001b[1m4s\u001b[0m 14ms/step - accuracy: 0.9971 - loss: 0.0083 - val_accuracy: 0.9965 - val_loss: 0.0105 - learning_rate: 1.0000e-05\n",
      "Epoch 103: early stopping\n",
      "Restoring model weights from the end of the best epoch: 93.\n"
     ]
    }
   ],
   "source": [
    "num_epochs = 300\n",
    "history = model.fit(x_train,y_train,epochs=num_epochs, validation_data=(x_val,y_val),verbose=1,callbacks=callbacks)"
   ]
  },
  {
   "cell_type": "code",
   "execution_count": 16,
   "metadata": {},
   "outputs": [
    {
     "name": "stderr",
     "output_type": "stream",
     "text": [
      "WARNING:absl:You are saving your model as an HDF5 file via `model.save()` or `keras.saving.save_model(model)`. This file format is considered legacy. We recommend using instead the native Keras format, e.g. `model.save('my_model.keras')` or `keras.saving.save_model(model, 'my_model.keras')`. \n"
     ]
    },
    {
     "ename": "",
     "evalue": "",
     "output_type": "error",
     "traceback": [
      "\u001b[1;31mThe Kernel crashed while executing code in the current cell or a previous cell. \n",
      "\u001b[1;31mPlease review the code in the cell(s) to identify a possible cause of the failure. \n",
      "\u001b[1;31mClick <a href='https://aka.ms/vscodeJupyterKernelCrash'>here</a> for more info. \n",
      "\u001b[1;31mView Jupyter <a href='command:jupyter.viewOutput'>log</a> for further details."
     ]
    }
   ],
   "source": [
    "model.save('model.h5')"
   ]
  }
 ],
 "metadata": {
  "kernelspec": {
   "display_name": "base",
   "language": "python",
   "name": "python3"
  },
  "language_info": {
   "codemirror_mode": {
    "name": "ipython",
    "version": 3
   },
   "file_extension": ".py",
   "mimetype": "text/x-python",
   "name": "python",
   "nbconvert_exporter": "python",
   "pygments_lexer": "ipython3",
   "version": "3.12.4"
  }
 },
 "nbformat": 4,
 "nbformat_minor": 2
}
